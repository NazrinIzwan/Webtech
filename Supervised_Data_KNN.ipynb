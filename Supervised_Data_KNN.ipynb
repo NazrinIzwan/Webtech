{
  "nbformat": 4,
  "nbformat_minor": 0,
  "metadata": {
    "colab": {
      "provenance": [],
      "authorship_tag": "ABX9TyMy/QPZ/GUu+4FT1IbS8jLK",
      "include_colab_link": true
    },
    "kernelspec": {
      "name": "python3",
      "display_name": "Python 3"
    },
    "language_info": {
      "name": "python"
    }
  },
  "cells": [
    {
      "cell_type": "markdown",
      "metadata": {
        "id": "view-in-github",
        "colab_type": "text"
      },
      "source": [
        "<a href=\"https://colab.research.google.com/github/NazrinIzwan/Webtech-Exercise2b/blob/main/Supervised_Data_KNN.ipynb\" target=\"_parent\"><img src=\"https://colab.research.google.com/assets/colab-badge.svg\" alt=\"Open In Colab\"/></a>"
      ]
    },
    {
      "cell_type": "code",
      "execution_count": 1,
      "metadata": {
        "id": "bWPVUmYqNisA"
      },
      "outputs": [],
      "source": [
        "import numpy as np\n",
        "import pandas as pd\n",
        "import matplotlib.pyplot as plt\n",
        "from sklearn.model_selection import train_test_split\n",
        "from sklearn.preprocessing import StandardScaler\n",
        "import tensorflow as tf\n"
      ]
    },
    {
      "cell_type": "code",
      "source": [
        "# Load the data\n",
        "file_path = \"/content/Hours and Scores.csv\"\n",
        "hs_data = pd.read_csv(file_path)"
      ],
      "metadata": {
        "id": "IGCYCVjBQKWp"
      },
      "execution_count": 2,
      "outputs": []
    },
    {
      "cell_type": "code",
      "source": [
        "# Drop unnecessary column\n",
        "hs_data.pop('Unnamed: 0')"
      ],
      "metadata": {
        "colab": {
          "base_uri": "https://localhost:8080/"
        },
        "id": "JSo59yx3QUyA",
        "outputId": "a3ff0621-e2fa-4f38-a78e-8c7b4f109e4d"
      },
      "execution_count": 3,
      "outputs": [
        {
          "output_type": "execute_result",
          "data": {
            "text/plain": [
              "0     2.5,21\n",
              "1     5.1,47\n",
              "2     3.2,27\n",
              "3     8.5,75\n",
              "4     3.5,30\n",
              "5     1.5,20\n",
              "6     9.2,88\n",
              "7     5.5,60\n",
              "8     8.3,81\n",
              "9     2.7,25\n",
              "10    7.7,85\n",
              "11    5.9,62\n",
              "12    4.5,41\n",
              "13    3.3,42\n",
              "14    1.1,17\n",
              "15    8.9,95\n",
              "16    2.5,30\n",
              "17    1.9,24\n",
              "18    6.1,67\n",
              "19    7.4,69\n",
              "20    2.7,30\n",
              "21    4.8,54\n",
              "22    3.8,35\n",
              "23    6.9,76\n",
              "24    7.8,86\n",
              "Name: Unnamed: 0, dtype: object"
            ]
          },
          "metadata": {},
          "execution_count": 3
        }
      ]
    },
    {
      "cell_type": "code",
      "source": [
        "# Prepare the data\n",
        "X = hs_data.iloc[:, :-1].values\n",
        "y = hs_data.iloc[:, 1].values"
      ],
      "metadata": {
        "id": "1HWiQ-GAQYEa"
      },
      "execution_count": 4,
      "outputs": []
    },
    {
      "cell_type": "code",
      "source": [
        "# Split the data into training and test sets\n",
        "X_train, X_test, y_train, y_test = train_test_split(X, y, test_size=0.2, random_state=0)\n"
      ],
      "metadata": {
        "id": "nCsXzHVbQfHt"
      },
      "execution_count": 5,
      "outputs": []
    },
    {
      "cell_type": "code",
      "source": [
        "# Standardize the data\n",
        "scaler = StandardScaler()\n",
        "X_train_scaled = scaler.fit_transform(X_train)\n",
        "X_test_scaled = scaler.transform(X_test)"
      ],
      "metadata": {
        "id": "OGnOpe8YQh_L"
      },
      "execution_count": 6,
      "outputs": []
    },
    {
      "cell_type": "code",
      "source": [
        "# Build the neural network model\n",
        "model = tf.keras.Sequential([\n",
        "    tf.keras.layers.Dense(1, input_shape=(1,), activation='linear')\n",
        "])"
      ],
      "metadata": {
        "id": "12Lgtd5gQlIS"
      },
      "execution_count": 8,
      "outputs": []
    },
    {
      "cell_type": "code",
      "source": [
        "# Compile the model\n",
        "model.compile(optimizer='adam', loss='mean_squared_error')"
      ],
      "metadata": {
        "id": "EoSi_mr0QuU2"
      },
      "execution_count": 9,
      "outputs": []
    },
    {
      "cell_type": "code",
      "source": [
        "# Train the model\n",
        "model.fit(X_train_scaled, y_train, epochs=100, verbose=0)"
      ],
      "metadata": {
        "colab": {
          "base_uri": "https://localhost:8080/"
        },
        "id": "pRWWGH1wQ0N4",
        "outputId": "a4017c22-7282-4d21-a245-27d1594fae19"
      },
      "execution_count": 10,
      "outputs": [
        {
          "output_type": "execute_result",
          "data": {
            "text/plain": [
              "<keras.src.callbacks.History at 0x7891c686d390>"
            ]
          },
          "metadata": {},
          "execution_count": 10
        }
      ]
    },
    {
      "cell_type": "code",
      "source": [
        "# Make predictions\n",
        "y_pred = model.predict(X_test_scaled)"
      ],
      "metadata": {
        "colab": {
          "base_uri": "https://localhost:8080/"
        },
        "id": "WhSrkxF8Q2T3",
        "outputId": "288ba28f-88a3-4a5e-d9e6-17f672e046e9"
      },
      "execution_count": 11,
      "outputs": [
        {
          "output_type": "stream",
          "name": "stdout",
          "text": [
            "1/1 [==============================] - 0s 166ms/step\n"
          ]
        }
      ]
    },
    {
      "cell_type": "code",
      "source": [
        "# Plot the results\n",
        "plt.scatter(X_test, y_test, label='Actual')\n",
        "plt.scatter(X_test, y_pred, label='Predicted')\n",
        "plt.title('Neural Network Regression')\n",
        "plt.xlabel('Hours Studied')\n",
        "plt.ylabel('Percentage Score')\n",
        "plt.legend()\n",
        "plt.show()"
      ],
      "metadata": {
        "colab": {
          "base_uri": "https://localhost:8080/",
          "height": 472
        },
        "id": "GDgqZWWgQ6Vj",
        "outputId": "f91fa6e6-7133-4e09-ae7d-526985a504e6"
      },
      "execution_count": 12,
      "outputs": [
        {
          "output_type": "display_data",
          "data": {
            "text/plain": [
              "<Figure size 640x480 with 1 Axes>"
            ],
            "image/png": "[encoded data removed]"
          },
          "metadata": {}
        }
      ]
    },
    {
      "cell_type": "code",
      "source": [
        "# Evaluate the model\n",
        "mae = tf.keras.metrics.mean_absolute_error(y_test, y_pred)\n",
        "print('Mean Absolute Error:', mae.numpy())"
      ],
      "metadata": {
        "colab": {
          "base_uri": "https://localhost:8080/"
        },
        "id": "-cCkPaOURREh",
        "outputId": "1cfd34da-c277-4b78-875a-f706baf768a0"
      },
      "execution_count": 13,
      "outputs": [
        {
          "output_type": "stream",
          "name": "stdout",
          "text": [
            "Mean Absolute Error: [43.102505 42.374107 40.574535 42.674034 41.217243]\n"
          ]
        }
      ]
    }
  ]
}